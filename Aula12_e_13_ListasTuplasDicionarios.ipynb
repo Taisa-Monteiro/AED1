{
  "cells": [
    {
      "cell_type": "markdown",
      "metadata": {
        "id": "view-in-github",
        "colab_type": "text"
      },
      "source": [
        "<a href=\"https://colab.research.google.com/github/taisa-monteiro/AED1/blob/main/Aula12_e_13_ListasTuplasDicionarios.ipynb\" target=\"_parent\"><img src=\"https://colab.research.google.com/assets/colab-badge.svg\" alt=\"Open In Colab\"/></a>"
      ]
    },
    {
      "cell_type": "markdown",
      "metadata": {
        "id": "8Wn7L2idLtRF"
      },
      "source": [
        "## <font color='blue'>Aula 12 - Algoritmos e Estrutura de Dados 1 </font>\n",
        "## <font color='blue'>Estruturas de Dados (Listas / Tuplas / Dicionários)</font>"
      ]
    },
    {
      "cell_type": "code",
      "execution_count": null,
      "metadata": {
        "colab": {
          "base_uri": "https://localhost:8080/"
        },
        "id": "sguEqJBpLtRI",
        "outputId": "b5a79707-b1f2-46de-d735-1e329b454b33"
      },
      "outputs": [
        {
          "output_type": "stream",
          "name": "stdout",
          "text": [
            "Versão da Linguagem Python Usada Neste Jupyter Notebook: 3.10.12\n"
          ]
        }
      ],
      "source": [
        "# Versão da Linguagem Python\n",
        "from platform import python_version\n",
        "print('Versão da Linguagem Python Usada Neste Jupyter Notebook:', python_version())"
      ]
    },
    {
      "cell_type": "markdown",
      "metadata": {
        "id": "HHauRjngLtRK"
      },
      "source": [
        "## <font color='blue'>LISTAS...</font>\n",
        "---\n",
        "### Trabalhando com Listas"
      ]
    },
    {
      "cell_type": "code",
      "execution_count": null,
      "metadata": {
        "id": "mZDMLL1jLtRK"
      },
      "outputs": [],
      "source": [
        "# Criando uma lista\n",
        "lista_1 = [\"arroz, frango, tomate, leite\"]"
      ]
    },
    {
      "cell_type": "code",
      "execution_count": null,
      "metadata": {
        "id": "RE8HfYC4LtRL",
        "outputId": "faa8bdb2-7877-4428-afc5-718e028ef486"
      },
      "outputs": [
        {
          "data": {
            "text/plain": [
              "list"
            ]
          },
          "execution_count": 2,
          "metadata": {},
          "output_type": "execute_result"
        }
      ],
      "source": [
        "type(lista_1)"
      ]
    },
    {
      "cell_type": "code",
      "execution_count": null,
      "metadata": {
        "id": "7cs223LMLtRL",
        "outputId": "9972dd7e-7953-49c4-fcf4-7a627c6ae20e"
      },
      "outputs": [
        {
          "name": "stdout",
          "output_type": "stream",
          "text": [
            "['arroz, frango, tomate, leite']\n"
          ]
        }
      ],
      "source": [
        "# Imprimindo a lista\n",
        "print(lista_1)"
      ]
    },
    {
      "cell_type": "code",
      "execution_count": null,
      "metadata": {
        "id": "nb8nT5RaLtRM"
      },
      "outputs": [],
      "source": [
        "# Criando outra lista\n",
        "lista_2 = [\"arroz\", \"frango\", \"tomate\", \"leite\"]"
      ]
    },
    {
      "cell_type": "code",
      "execution_count": null,
      "metadata": {
        "id": "nxP5rIKMLtRM",
        "outputId": "f63c2b2d-2ad4-4e35-8a15-75c942956fca"
      },
      "outputs": [
        {
          "data": {
            "text/plain": [
              "list"
            ]
          },
          "execution_count": 5,
          "metadata": {},
          "output_type": "execute_result"
        }
      ],
      "source": [
        "type(lista_2)"
      ]
    },
    {
      "cell_type": "code",
      "execution_count": null,
      "metadata": {
        "id": "vdtj877DLtRM",
        "outputId": "89f70b3c-af01-4aa6-ca80-066006a2c97d"
      },
      "outputs": [
        {
          "name": "stdout",
          "output_type": "stream",
          "text": [
            "['arroz', 'frango', 'tomate', 'leite']\n"
          ]
        }
      ],
      "source": [
        "# Imprimindo a lista\n",
        "print(lista_2)"
      ]
    },
    {
      "cell_type": "code",
      "execution_count": null,
      "metadata": {
        "id": "bQOKjC0DLtRM"
      },
      "outputs": [],
      "source": [
        "# Criando lista\n",
        "lista_3 = [23, 100, \"Cientista de Dados\"]"
      ]
    },
    {
      "cell_type": "code",
      "execution_count": null,
      "metadata": {
        "id": "XJyXrjCkLtRN",
        "outputId": "919ecd44-e8ba-4040-80bf-2db6018a3881"
      },
      "outputs": [
        {
          "data": {
            "text/plain": [
              "list"
            ]
          },
          "execution_count": 8,
          "metadata": {},
          "output_type": "execute_result"
        }
      ],
      "source": [
        "type(lista_3)"
      ]
    },
    {
      "cell_type": "code",
      "execution_count": null,
      "metadata": {
        "id": "XZbUF6l2LtRN",
        "outputId": "b4bedcfc-8319-416a-fef3-489ff4073654"
      },
      "outputs": [
        {
          "name": "stdout",
          "output_type": "stream",
          "text": [
            "[23, 100, 'Cientista de Dados']\n"
          ]
        }
      ],
      "source": [
        "# Imprimindo\n",
        "print(lista_3)"
      ]
    },
    {
      "cell_type": "code",
      "execution_count": null,
      "metadata": {
        "id": "mpKjoveOLtRN"
      },
      "outputs": [],
      "source": [
        "# Atribuindo cada valor da lista a uma variável.\n",
        "item1 = lista_3[0]\n",
        "item2 = lista_3[1]\n",
        "item3 = lista_3[2]"
      ]
    },
    {
      "cell_type": "code",
      "execution_count": null,
      "metadata": {
        "id": "wzxyQ134LtRO",
        "outputId": "b8c0340b-cf5a-4d77-fe69-5e31b9777203"
      },
      "outputs": [
        {
          "name": "stdout",
          "output_type": "stream",
          "text": [
            "23 100 Cientista de Dados\n"
          ]
        }
      ],
      "source": [
        "# Imprimindo as variáveis\n",
        "print(item1, item2, item3)"
      ]
    },
    {
      "cell_type": "code",
      "execution_count": null,
      "metadata": {
        "id": "7bzD4nGoLtRO"
      },
      "outputs": [],
      "source": [
        "alunos = ['ana', 'pedro', 'maria']\n",
        "notas = [9, 3.5, 6]"
      ]
    },
    {
      "cell_type": "code",
      "execution_count": null,
      "metadata": {
        "id": "WHNwIRKBLtRO",
        "outputId": "9c125b79-debd-41f4-9a07-7b35454f5ab6"
      },
      "outputs": [
        {
          "name": "stdout",
          "output_type": "stream",
          "text": [
            "O(a) estudante ana teve nota 9!\n",
            "O(a) estudante pedro teve nota 3.5!\n",
            "O(a) estudante maria teve nota 6!\n"
          ]
        }
      ],
      "source": [
        "for i in range(len(alunos)):\n",
        "    print(f\"O(a) estudante {alunos[i]} teve nota {notas[i]}!\")"
      ]
    },
    {
      "cell_type": "markdown",
      "metadata": {
        "id": "MadJ8YmYLtRP"
      },
      "source": [
        "#### Atualizando Um Item da Lista"
      ]
    },
    {
      "cell_type": "code",
      "execution_count": null,
      "metadata": {
        "id": "P9kcl0v2LtRP",
        "outputId": "8978e084-9ca4-4592-e9c5-64d51362fac0"
      },
      "outputs": [
        {
          "data": {
            "text/plain": [
              "['arroz', 'frango', 'tomate', 'leite']"
            ]
          },
          "execution_count": 14,
          "metadata": {},
          "output_type": "execute_result"
        }
      ],
      "source": [
        "lista_2"
      ]
    },
    {
      "cell_type": "code",
      "execution_count": null,
      "metadata": {
        "id": "x3uiZyYtLtRP",
        "outputId": "e00e8081-c0d7-4053-81bb-3d400bf3ad04"
      },
      "outputs": [
        {
          "data": {
            "text/plain": [
              "'tomate'"
            ]
          },
          "execution_count": 15,
          "metadata": {},
          "output_type": "execute_result"
        }
      ],
      "source": [
        "# Imprimindo um item da lista\n",
        "lista_2[2]"
      ]
    },
    {
      "cell_type": "code",
      "execution_count": null,
      "metadata": {
        "id": "h0wzYMjYLtRQ"
      },
      "outputs": [],
      "source": [
        "# Atualizando um item da lista\n",
        "lista_2[2] = \"chocolate\""
      ]
    },
    {
      "cell_type": "code",
      "execution_count": null,
      "metadata": {
        "id": "oUWrJX79LtRQ",
        "outputId": "f18394d9-301b-467b-aace-83e883674caa"
      },
      "outputs": [
        {
          "data": {
            "text/plain": [
              "['arroz', 'frango', 'chocolate', 'leite']"
            ]
          },
          "execution_count": 17,
          "metadata": {},
          "output_type": "execute_result"
        }
      ],
      "source": [
        "# Imprimindo lista alterada\n",
        "lista_2"
      ]
    },
    {
      "cell_type": "markdown",
      "metadata": {
        "id": "GvCViFh1LtRR"
      },
      "source": [
        "#### Deletando Um Item da Lista"
      ]
    },
    {
      "cell_type": "code",
      "execution_count": null,
      "metadata": {
        "id": "aNPn6lwfLtRR",
        "outputId": "7f8b8865-e222-4aaa-ab9f-9263eeb2c407"
      },
      "outputs": [
        {
          "data": {
            "text/plain": [
              "['arroz', 'frango', 'chocolate', 'leite']"
            ]
          },
          "execution_count": 18,
          "metadata": {},
          "output_type": "execute_result"
        }
      ],
      "source": [
        "lista_2"
      ]
    },
    {
      "cell_type": "code",
      "execution_count": null,
      "metadata": {
        "id": "KXkXR2BxLtRR",
        "outputId": "c929a918-fc86-4a3e-b21a-04ceb9ceb0d5"
      },
      "outputs": [
        {
          "ename": "IndexError",
          "evalue": "list assignment index out of range",
          "output_type": "error",
          "traceback": [
            "\u001b[1;31m---------------------------------------------------------------------------\u001b[0m",
            "\u001b[1;31mIndexError\u001b[0m                                Traceback (most recent call last)",
            "Cell \u001b[1;32mIn[19], line 2\u001b[0m\n\u001b[0;32m      1\u001b[0m \u001b[38;5;66;03m# Não é possível deletar um item que não existe na lista. Vai gerar erro index out of range\u001b[39;00m\n\u001b[1;32m----> 2\u001b[0m \u001b[38;5;28;01mdel\u001b[39;00m lista_2[\u001b[38;5;241m4\u001b[39m]\n",
            "\u001b[1;31mIndexError\u001b[0m: list assignment index out of range"
          ]
        }
      ],
      "source": [
        "# Não é possível deletar um item que não existe na lista. Vai gerar erro index out of range\n",
        "del lista_2[4]"
      ]
    },
    {
      "cell_type": "code",
      "execution_count": null,
      "metadata": {
        "id": "yemWSREfLtRS"
      },
      "outputs": [],
      "source": [
        "# Deletando um item específico da lista\n",
        "del lista_2[3]"
      ]
    },
    {
      "cell_type": "code",
      "execution_count": null,
      "metadata": {
        "id": "9QfGScrRLtRS",
        "outputId": "eb25b87f-a558-44f6-e624-1bc47edc72b8"
      },
      "outputs": [
        {
          "data": {
            "text/plain": [
              "['arroz', 'frango', 'chocolate']"
            ]
          },
          "execution_count": 21,
          "metadata": {},
          "output_type": "execute_result"
        }
      ],
      "source": [
        "# Imprimindo o item com a lista alterada\n",
        "lista_2"
      ]
    },
    {
      "cell_type": "markdown",
      "metadata": {
        "id": "pauNvwYpLtRT"
      },
      "source": [
        "#### Listas de Listas (Listas Aninhadas)\n",
        "\n",
        "Listas de listas são matrizes em Python."
      ]
    },
    {
      "cell_type": "code",
      "execution_count": null,
      "metadata": {
        "id": "x6xRXFilLtRT"
      },
      "outputs": [],
      "source": [
        "# Criando uma lista de listas\n",
        "listas = [ [1,2,3], [10,15,14], [10.1,8.7,2.3] ]"
      ]
    },
    {
      "cell_type": "code",
      "execution_count": null,
      "metadata": {
        "id": "Si9PuscGLtRT",
        "outputId": "2a1c0e2e-8184-4396-b474-682b5f69abc7"
      },
      "outputs": [
        {
          "name": "stdout",
          "output_type": "stream",
          "text": [
            "[[1, 2, 3], [10, 15, 14], [10.1, 8.7, 2.3]]\n"
          ]
        }
      ],
      "source": [
        "# Imprimindo a lista\n",
        "print(listas)"
      ]
    },
    {
      "cell_type": "code",
      "execution_count": null,
      "metadata": {
        "id": "fYj5IOlhLtRT"
      },
      "outputs": [],
      "source": [
        "# Atribuindo um item da lista a uma variável\n",
        "a = listas[0]"
      ]
    },
    {
      "cell_type": "code",
      "execution_count": null,
      "metadata": {
        "id": "vU7F6xCfLtRU",
        "outputId": "92f42534-97c0-4ed7-ae7d-13816d515f29"
      },
      "outputs": [
        {
          "data": {
            "text/plain": [
              "2"
            ]
          },
          "execution_count": 27,
          "metadata": {},
          "output_type": "execute_result"
        }
      ],
      "source": [
        "listas[0][1]"
      ]
    },
    {
      "cell_type": "code",
      "execution_count": null,
      "metadata": {
        "id": "exAKvbBfLtRU",
        "outputId": "a487e8ce-2132-46d8-a0ad-86e657165eef"
      },
      "outputs": [
        {
          "data": {
            "text/plain": [
              "[1, 2, 3]"
            ]
          },
          "execution_count": 25,
          "metadata": {},
          "output_type": "execute_result"
        }
      ],
      "source": [
        "a"
      ]
    },
    {
      "cell_type": "code",
      "execution_count": null,
      "metadata": {
        "id": "BnPa8SzSLtRU"
      },
      "outputs": [],
      "source": [
        "b = a[0]"
      ]
    },
    {
      "cell_type": "code",
      "execution_count": null,
      "metadata": {
        "id": "RFzNIP6VLtRV",
        "outputId": "5999d2e5-71af-4075-b662-7e697a399b0e"
      },
      "outputs": [
        {
          "data": {
            "text/plain": [
              "1"
            ]
          },
          "execution_count": 29,
          "metadata": {},
          "output_type": "execute_result"
        }
      ],
      "source": [
        "b"
      ]
    },
    {
      "cell_type": "code",
      "execution_count": null,
      "metadata": {
        "id": "0_DY3okALtRV"
      },
      "outputs": [],
      "source": [
        "list1 = listas[1]"
      ]
    },
    {
      "cell_type": "code",
      "execution_count": null,
      "metadata": {
        "id": "EVs-TsnvLtRV",
        "outputId": "acc59e6e-781c-4626-b8fb-c24277678a28"
      },
      "outputs": [
        {
          "data": {
            "text/plain": [
              "[10, 15, 14]"
            ]
          },
          "execution_count": 31,
          "metadata": {},
          "output_type": "execute_result"
        }
      ],
      "source": [
        "list1"
      ]
    },
    {
      "cell_type": "code",
      "execution_count": null,
      "metadata": {
        "id": "q9tDYL4zLtRV"
      },
      "outputs": [],
      "source": [
        "valor_1_0 = list1[0]"
      ]
    },
    {
      "cell_type": "code",
      "execution_count": null,
      "metadata": {
        "id": "XLAxp2xfLtRW",
        "outputId": "b81f09ec-5e10-440e-edab-8c06c46857bd"
      },
      "outputs": [
        {
          "data": {
            "text/plain": [
              "10"
            ]
          },
          "execution_count": 33,
          "metadata": {},
          "output_type": "execute_result"
        }
      ],
      "source": [
        "valor_1_0"
      ]
    },
    {
      "cell_type": "code",
      "execution_count": null,
      "metadata": {
        "id": "GiNim1NALtRW"
      },
      "outputs": [],
      "source": [
        "valor_1_2 = list1[2]"
      ]
    },
    {
      "cell_type": "code",
      "execution_count": null,
      "metadata": {
        "id": "TrTVe0l-LtRf",
        "outputId": "b95cb791-cca8-45cf-8294-5591a8431a92"
      },
      "outputs": [
        {
          "data": {
            "text/plain": [
              "14"
            ]
          },
          "execution_count": 35,
          "metadata": {},
          "output_type": "execute_result"
        }
      ],
      "source": [
        "valor_1_2"
      ]
    },
    {
      "cell_type": "code",
      "execution_count": null,
      "metadata": {
        "id": "LbgvtOBgLtRf"
      },
      "outputs": [],
      "source": [
        "list2 = listas[2]"
      ]
    },
    {
      "cell_type": "code",
      "execution_count": null,
      "metadata": {
        "id": "orrGRio7LtRf",
        "outputId": "48026cb1-d113-4cb5-acd9-e7214483e83f"
      },
      "outputs": [
        {
          "data": {
            "text/plain": [
              "[10.1, 8.7, 2.3]"
            ]
          },
          "execution_count": 37,
          "metadata": {},
          "output_type": "execute_result"
        }
      ],
      "source": [
        "list2"
      ]
    },
    {
      "cell_type": "code",
      "execution_count": null,
      "metadata": {
        "id": "uF5pa9BmLtRg"
      },
      "outputs": [],
      "source": [
        "valor_2_0 = list2[0]"
      ]
    },
    {
      "cell_type": "code",
      "execution_count": null,
      "metadata": {
        "id": "hRJiJrKjLtRg",
        "outputId": "ae29a8da-11b9-4cbe-a421-034083cb7bc3"
      },
      "outputs": [
        {
          "data": {
            "text/plain": [
              "10.1"
            ]
          },
          "execution_count": 39,
          "metadata": {},
          "output_type": "execute_result"
        }
      ],
      "source": [
        "valor_2_0"
      ]
    },
    {
      "cell_type": "markdown",
      "metadata": {
        "id": "f9cWGkzYLtRg"
      },
      "source": [
        "#### Operações com Listas"
      ]
    },
    {
      "cell_type": "code",
      "execution_count": null,
      "metadata": {
        "id": "SSejh-1WLtRg"
      },
      "outputs": [],
      "source": [
        "# Criando uma lista aninhada (lista de listas - Matrizes)\n",
        "listas = [[1,2,3], [10,15,14], [10.1,8.7,2.3]]"
      ]
    },
    {
      "cell_type": "code",
      "execution_count": null,
      "metadata": {
        "id": "EVZXjaOCLtRh",
        "outputId": "b7a540e6-cdfe-4261-84cc-34b52fca771d"
      },
      "outputs": [
        {
          "data": {
            "text/plain": [
              "[[1, 2, 3], [10, 15, 14], [10.1, 8.7, 2.3]]"
            ]
          },
          "execution_count": 41,
          "metadata": {},
          "output_type": "execute_result"
        }
      ],
      "source": [
        "listas"
      ]
    },
    {
      "cell_type": "code",
      "execution_count": null,
      "metadata": {
        "id": "c418NohmLtRh"
      },
      "outputs": [],
      "source": [
        "# Atribuindo à variável a o primeiro valor da primeira lista\n",
        "a = listas[0][0]"
      ]
    },
    {
      "cell_type": "code",
      "execution_count": null,
      "metadata": {
        "id": "Yp23O0dkLtRh",
        "outputId": "474ed3d3-6344-4bfa-d5c6-f17b33478ca5"
      },
      "outputs": [
        {
          "data": {
            "text/plain": [
              "1"
            ]
          },
          "execution_count": 43,
          "metadata": {},
          "output_type": "execute_result"
        }
      ],
      "source": [
        "a"
      ]
    },
    {
      "cell_type": "code",
      "execution_count": null,
      "metadata": {
        "id": "cz2pgXhELtRh"
      },
      "outputs": [],
      "source": [
        "b = listas[1][2]"
      ]
    },
    {
      "cell_type": "code",
      "execution_count": null,
      "metadata": {
        "id": "kwv16-ddLtRi",
        "outputId": "4acd190e-104a-434b-c160-5e6b38f16eb0"
      },
      "outputs": [
        {
          "data": {
            "text/plain": [
              "14"
            ]
          },
          "execution_count": 46,
          "metadata": {},
          "output_type": "execute_result"
        }
      ],
      "source": [
        "b"
      ]
    },
    {
      "cell_type": "code",
      "execution_count": null,
      "metadata": {
        "id": "lFbtHKkcLtRi"
      },
      "outputs": [],
      "source": [
        "c = listas[0][2] + 10"
      ]
    },
    {
      "cell_type": "code",
      "execution_count": null,
      "metadata": {
        "id": "SF9v71V4LtRi",
        "outputId": "05e454dd-2b1c-4f08-89b3-5eae7884d32b"
      },
      "outputs": [
        {
          "data": {
            "text/plain": [
              "13"
            ]
          },
          "execution_count": 48,
          "metadata": {},
          "output_type": "execute_result"
        }
      ],
      "source": [
        "c"
      ]
    },
    {
      "cell_type": "code",
      "execution_count": null,
      "metadata": {
        "id": "Bp51V4zTLtRj"
      },
      "outputs": [],
      "source": [
        "d = 10"
      ]
    },
    {
      "cell_type": "code",
      "execution_count": null,
      "metadata": {
        "id": "VJG5o-AeLtRj",
        "outputId": "5d28a31c-17c4-49b0-9d65-1c69e860b81b"
      },
      "outputs": [
        {
          "data": {
            "text/plain": [
              "10"
            ]
          },
          "execution_count": 50,
          "metadata": {},
          "output_type": "execute_result"
        }
      ],
      "source": [
        "d"
      ]
    },
    {
      "cell_type": "code",
      "execution_count": null,
      "metadata": {
        "id": "oCHMLWnLLtRk"
      },
      "outputs": [],
      "source": [
        "e = d * listas[2][0]"
      ]
    },
    {
      "cell_type": "code",
      "execution_count": null,
      "metadata": {
        "id": "d9imNVZsLtRl",
        "outputId": "45c6e911-add9-45a7-8e0e-692d63ef8c9e"
      },
      "outputs": [
        {
          "data": {
            "text/plain": [
              "101.0"
            ]
          },
          "execution_count": 52,
          "metadata": {},
          "output_type": "execute_result"
        }
      ],
      "source": [
        "e"
      ]
    },
    {
      "cell_type": "markdown",
      "metadata": {
        "id": "nipk4WMvLtRl"
      },
      "source": [
        "#### Concatenando Listas"
      ]
    },
    {
      "cell_type": "code",
      "execution_count": null,
      "metadata": {
        "id": "QHKKApl_LtRl"
      },
      "outputs": [],
      "source": [
        "lista_s1 = [34, 32, 56]"
      ]
    },
    {
      "cell_type": "code",
      "execution_count": null,
      "metadata": {
        "id": "9A7ux38MLtRl",
        "outputId": "2ced3de2-db03-4f31-d353-7e2276d5c818"
      },
      "outputs": [
        {
          "data": {
            "text/plain": [
              "[34, 32, 56]"
            ]
          },
          "execution_count": 55,
          "metadata": {},
          "output_type": "execute_result"
        }
      ],
      "source": [
        "lista_s1"
      ]
    },
    {
      "cell_type": "code",
      "execution_count": null,
      "metadata": {
        "id": "5IvWWMU-LtRm"
      },
      "outputs": [],
      "source": [
        "lista_s2 = [21, 90, 51]"
      ]
    },
    {
      "cell_type": "code",
      "execution_count": null,
      "metadata": {
        "id": "W0PJBd31LtRm",
        "outputId": "406e1bed-4937-4616-95a6-4283798aaa55"
      },
      "outputs": [
        {
          "data": {
            "text/plain": [
              "[21, 90, 51]"
            ]
          },
          "execution_count": 57,
          "metadata": {},
          "output_type": "execute_result"
        }
      ],
      "source": [
        "lista_s2"
      ]
    },
    {
      "cell_type": "code",
      "execution_count": null,
      "metadata": {
        "id": "RdFosCS5LtRm"
      },
      "outputs": [],
      "source": [
        "# Concatenando listas\n",
        "lista_total = lista_s1 + lista_s2"
      ]
    },
    {
      "cell_type": "code",
      "execution_count": null,
      "metadata": {
        "id": "gAIkbDZNLtRn",
        "outputId": "31387442-ce5c-428a-f719-e1977cf05b2e"
      },
      "outputs": [
        {
          "data": {
            "text/plain": [
              "[34, 32, 56, 21, 90, 51]"
            ]
          },
          "execution_count": 59,
          "metadata": {},
          "output_type": "execute_result"
        }
      ],
      "source": [
        "lista_total"
      ]
    },
    {
      "cell_type": "markdown",
      "metadata": {
        "id": "wBwdDs6ULtRn"
      },
      "source": [
        "### Operador in"
      ]
    },
    {
      "cell_type": "code",
      "execution_count": null,
      "metadata": {
        "id": "juHIyKIxLtRn"
      },
      "outputs": [],
      "source": [
        "# Criando uma lista\n",
        "lista_teste_op = [100, 2, -5, 3.4]"
      ]
    },
    {
      "cell_type": "code",
      "execution_count": null,
      "metadata": {
        "id": "dRgmg0MDLtRn",
        "outputId": "cce01422-cba2-474f-8dce-ad10de925351"
      },
      "outputs": [
        {
          "name": "stdout",
          "output_type": "stream",
          "text": [
            "False\n"
          ]
        }
      ],
      "source": [
        "# Verificando se o valor 10 pertence a lista\n",
        "print(10 in lista_teste_op)"
      ]
    },
    {
      "cell_type": "code",
      "execution_count": null,
      "metadata": {
        "id": "S8pRABh_LtRo",
        "outputId": "824c615a-5c38-4941-a156-749cf34cc5b3"
      },
      "outputs": [
        {
          "name": "stdout",
          "output_type": "stream",
          "text": [
            "True\n"
          ]
        }
      ],
      "source": [
        "# Verificando se o valor 100 pertence a lista\n",
        "print(100 in lista_teste_op)"
      ]
    },
    {
      "cell_type": "markdown",
      "metadata": {
        "id": "nnMopBK9LtRo"
      },
      "source": [
        "### Funções Built-in"
      ]
    },
    {
      "cell_type": "code",
      "execution_count": null,
      "metadata": {
        "id": "k8BubX-iLtRo"
      },
      "outputs": [],
      "source": [
        "lista_s1."
      ]
    },
    {
      "cell_type": "markdown",
      "metadata": {
        "id": "nqDcptyILtRp"
      },
      "source": [
        "![Listas](listas.jpg)"
      ]
    },
    {
      "cell_type": "code",
      "execution_count": null,
      "metadata": {
        "id": "55eCJCUxLtRp"
      },
      "outputs": [],
      "source": [
        "# Criando uma lista\n",
        "lista_numeros = [10, 20, 50, -3.4]"
      ]
    },
    {
      "cell_type": "code",
      "execution_count": null,
      "metadata": {
        "id": "l9IZ8bX9LtRp",
        "outputId": "f46620cb-544d-4d23-8e6f-709f6486a189"
      },
      "outputs": [
        {
          "data": {
            "text/plain": [
              "4"
            ]
          },
          "execution_count": 64,
          "metadata": {},
          "output_type": "execute_result"
        }
      ],
      "source": [
        "# Função len() retorna o comprimento da lista\n",
        "len(lista_numeros)"
      ]
    },
    {
      "cell_type": "code",
      "execution_count": null,
      "metadata": {
        "id": "4moyilHYLtRp",
        "outputId": "081a52b1-00a6-4031-8cfb-8fcdd85feaaf"
      },
      "outputs": [
        {
          "data": {
            "text/plain": [
              "50"
            ]
          },
          "execution_count": 65,
          "metadata": {},
          "output_type": "execute_result"
        }
      ],
      "source": [
        "# Função max() retorna o valor máximo da lista\n",
        "max(lista_numeros)"
      ]
    },
    {
      "cell_type": "code",
      "execution_count": null,
      "metadata": {
        "id": "pY0EWJmELtRq",
        "outputId": "fca69851-e690-4369-ca06-6ad5950bb0f0"
      },
      "outputs": [
        {
          "data": {
            "text/plain": [
              "-3.4"
            ]
          },
          "execution_count": 66,
          "metadata": {},
          "output_type": "execute_result"
        }
      ],
      "source": [
        "# Função min() retorna o valor mínimo da lista\n",
        "min(lista_numeros)"
      ]
    },
    {
      "cell_type": "code",
      "execution_count": null,
      "metadata": {
        "id": "qg97RxrGLtRq"
      },
      "outputs": [],
      "source": [
        "# Criando uma lista\n",
        "lista_formacoes_dsa = [\"Analista de Dados\", \"Cientista de Dados\", \"Engenheiro de Dados\"]"
      ]
    },
    {
      "cell_type": "code",
      "execution_count": null,
      "metadata": {
        "id": "Dltzvp19LtRq",
        "outputId": "cec11b73-8ac5-42fa-c32a-4adca8412ae0"
      },
      "outputs": [
        {
          "data": {
            "text/plain": [
              "['Analista de Dados', 'Cientista de Dados', 'Engenheiro de Dados']"
            ]
          },
          "execution_count": 68,
          "metadata": {},
          "output_type": "execute_result"
        }
      ],
      "source": [
        "lista_formacoes_dsa"
      ]
    },
    {
      "cell_type": "code",
      "execution_count": null,
      "metadata": {
        "id": "DABP2UC3LtRq"
      },
      "outputs": [],
      "source": [
        "# Adicionando um item à lista\n",
        "lista_formacoes_dsa.append(\"Engenheiro de IA\")"
      ]
    },
    {
      "cell_type": "code",
      "execution_count": null,
      "metadata": {
        "id": "E_4gjymKLtRr",
        "outputId": "eb1335ca-921a-4d43-955d-d6594943cfc5"
      },
      "outputs": [
        {
          "data": {
            "text/plain": [
              "['Analista de Dados',\n",
              " 'Cientista de Dados',\n",
              " 'Engenheiro de Dados',\n",
              " 'Engenheiro de IA']"
            ]
          },
          "execution_count": 70,
          "metadata": {},
          "output_type": "execute_result"
        }
      ],
      "source": [
        "lista_formacoes_dsa"
      ]
    },
    {
      "cell_type": "code",
      "execution_count": null,
      "metadata": {
        "id": "rJ4M6K6qLtRr"
      },
      "outputs": [],
      "source": [
        "lista_formacoes_dsa.append(\"Engenheiro de IA\")"
      ]
    },
    {
      "cell_type": "code",
      "execution_count": null,
      "metadata": {
        "scrolled": true,
        "id": "5SWWtp1eLtRr",
        "outputId": "c0260775-4139-4756-ea7a-e0d4432ab196"
      },
      "outputs": [
        {
          "data": {
            "text/plain": [
              "['Analista de Dados',\n",
              " 'Cientista de Dados',\n",
              " 'Engenheiro de Dados',\n",
              " 'Engenheiro de IA',\n",
              " 'Engenheiro de IA']"
            ]
          },
          "execution_count": 72,
          "metadata": {},
          "output_type": "execute_result"
        }
      ],
      "source": [
        "lista_formacoes_dsa"
      ]
    },
    {
      "cell_type": "code",
      "execution_count": null,
      "metadata": {
        "id": "BYMxGenrLtRs",
        "outputId": "4d31be1f-c4c1-4eea-857d-7d69fcb042d6"
      },
      "outputs": [
        {
          "data": {
            "text/plain": [
              "2"
            ]
          },
          "execution_count": 73,
          "metadata": {},
          "output_type": "execute_result"
        }
      ],
      "source": [
        "lista_formacoes_dsa.count(\"Engenheiro de IA\")"
      ]
    },
    {
      "cell_type": "code",
      "execution_count": null,
      "metadata": {
        "id": "cV4tnLzxLtRs"
      },
      "outputs": [],
      "source": [
        "# Criando uma lista vazia\n",
        "a = []"
      ]
    },
    {
      "cell_type": "code",
      "execution_count": null,
      "metadata": {
        "id": "Ln6nAlZaLtRs",
        "outputId": "1be98484-9b3b-4133-a34a-6538a9c1b583"
      },
      "outputs": [
        {
          "name": "stdout",
          "output_type": "stream",
          "text": [
            "[]\n"
          ]
        }
      ],
      "source": [
        "print(a)"
      ]
    },
    {
      "cell_type": "code",
      "execution_count": null,
      "metadata": {
        "id": "VGFnRKP1LtRt",
        "outputId": "5bc74b7c-89f1-4aec-9be5-de35cc7f5c94"
      },
      "outputs": [
        {
          "data": {
            "text/plain": [
              "list"
            ]
          },
          "execution_count": 76,
          "metadata": {},
          "output_type": "execute_result"
        }
      ],
      "source": [
        "type(a)"
      ]
    },
    {
      "cell_type": "code",
      "execution_count": null,
      "metadata": {
        "id": "RjvBgcGMLtRt"
      },
      "outputs": [],
      "source": [
        "a.append(10)"
      ]
    },
    {
      "cell_type": "code",
      "execution_count": null,
      "metadata": {
        "id": "7LYOJclGLtRt",
        "outputId": "bd5762f9-c1b5-4fbe-8ecc-cb8e3c140f06"
      },
      "outputs": [
        {
          "data": {
            "text/plain": [
              "[10]"
            ]
          },
          "execution_count": 78,
          "metadata": {},
          "output_type": "execute_result"
        }
      ],
      "source": [
        "a"
      ]
    },
    {
      "cell_type": "code",
      "execution_count": null,
      "metadata": {
        "id": "tjIvNchKLtRu"
      },
      "outputs": [],
      "source": [
        "a.append(50)"
      ]
    },
    {
      "cell_type": "code",
      "execution_count": null,
      "metadata": {
        "id": "j86KNcIoLtRu",
        "outputId": "7b7fc251-3a55-4e78-cece-02c9683b8c1b"
      },
      "outputs": [
        {
          "data": {
            "text/plain": [
              "[10, 50]"
            ]
          },
          "execution_count": 80,
          "metadata": {},
          "output_type": "execute_result"
        }
      ],
      "source": [
        "a"
      ]
    },
    {
      "cell_type": "code",
      "execution_count": null,
      "metadata": {
        "id": "AXQoyIBALtRu"
      },
      "outputs": [],
      "source": [
        "old_list = [1,2,5,10]"
      ]
    },
    {
      "cell_type": "code",
      "execution_count": null,
      "metadata": {
        "id": "xXl6RdVgLtRv"
      },
      "outputs": [],
      "source": [
        "new_list = []"
      ]
    },
    {
      "cell_type": "code",
      "execution_count": null,
      "metadata": {
        "id": "jmEA8Wr6LtRv"
      },
      "outputs": [],
      "source": [
        "# Copiando os itens de uma lista para outra\n",
        "for item in old_list:\n",
        "    new_list.append(item)"
      ]
    },
    {
      "cell_type": "code",
      "execution_count": null,
      "metadata": {
        "id": "-TlfbVvLLtRv",
        "outputId": "ef35a390-d0bf-4303-dd3c-af65dbd61f6f"
      },
      "outputs": [
        {
          "name": "stdout",
          "output_type": "stream",
          "text": [
            "Digite um valor (-1 para sair): 5\n",
            "Digite um valor (-1 para sair): 6\n",
            "Digite um valor (-1 para sair): 89\n",
            "Digite um valor (-1 para sair): 1234\n",
            "Digite um valor (-1 para sair): 3\n",
            "Digite um valor (-1 para sair): -1\n",
            "[5, 6, 89, 1234, 3]\n"
          ]
        }
      ],
      "source": [
        "lista = []\n",
        "while True:\n",
        "    n = int(input(\"Digite um valor (-1 para sair): \"))\n",
        "    if n == -1:\n",
        "        break\n",
        "    lista.append(n)\n",
        "\n",
        "print(lista)"
      ]
    },
    {
      "cell_type": "code",
      "execution_count": null,
      "metadata": {
        "id": "pvfYy2MLLtRv",
        "outputId": "dd6876ff-8495-47e9-c059-7646dde04546"
      },
      "outputs": [
        {
          "data": {
            "text/plain": [
              "[1, 2, 5, 10]"
            ]
          },
          "execution_count": 84,
          "metadata": {},
          "output_type": "execute_result"
        }
      ],
      "source": [
        "new_list"
      ]
    },
    {
      "cell_type": "code",
      "execution_count": null,
      "metadata": {
        "id": "r5RMXBMJLtRw",
        "outputId": "e22052e6-bfe4-495e-fe84-31961b09dd9d"
      },
      "outputs": [
        {
          "name": "stdout",
          "output_type": "stream",
          "text": [
            "['Recife', 'Manaus', 'Salvador', 'Fortaleza', 'Palmas']\n"
          ]
        }
      ],
      "source": [
        "cidades = ['Recife', 'Manaus', 'Salvador']\n",
        "cidades.extend(['Fortaleza', 'Palmas'])\n",
        "print (cidades)"
      ]
    },
    {
      "cell_type": "code",
      "execution_count": null,
      "metadata": {
        "id": "Fkg4wiHBLtRw",
        "outputId": "d9ad8b5d-3edd-4257-88d9-e4beeacb6cde"
      },
      "outputs": [
        {
          "data": {
            "text/plain": [
              "2"
            ]
          },
          "execution_count": 87,
          "metadata": {},
          "output_type": "execute_result"
        }
      ],
      "source": [
        "cidades.index('Salvador')"
      ]
    },
    {
      "cell_type": "markdown",
      "metadata": {
        "id": "TR0yIN9hLtRw"
      },
      "source": [
        "Lembre-se: em Python o índice começa por 0!"
      ]
    },
    {
      "cell_type": "code",
      "execution_count": null,
      "metadata": {
        "id": "fdUQ-Y69LtRx",
        "outputId": "3b37b35c-70f8-4486-c55e-003ab89e16a9"
      },
      "outputs": [
        {
          "ename": "ValueError",
          "evalue": "'Rio de Janeiro' is not in list",
          "output_type": "error",
          "traceback": [
            "\u001b[1;31m---------------------------------------------------------------------------\u001b[0m",
            "\u001b[1;31mValueError\u001b[0m                                Traceback (most recent call last)",
            "Cell \u001b[1;32mIn[88], line 1\u001b[0m\n\u001b[1;32m----> 1\u001b[0m cidades\u001b[38;5;241m.\u001b[39mindex(\u001b[38;5;124m'\u001b[39m\u001b[38;5;124mRio de Janeiro\u001b[39m\u001b[38;5;124m'\u001b[39m)\n",
            "\u001b[1;31mValueError\u001b[0m: 'Rio de Janeiro' is not in list"
          ]
        }
      ],
      "source": [
        "cidades.index('Rio de Janeiro')"
      ]
    },
    {
      "cell_type": "code",
      "execution_count": null,
      "metadata": {
        "id": "bsHpeGOuLtRx",
        "outputId": "eb99380b-6ed8-404e-9ed5-742389a82e79"
      },
      "outputs": [
        {
          "data": {
            "text/plain": [
              "['Recife', 'Manaus', 'Salvador', 'Fortaleza', 'Palmas']"
            ]
          },
          "execution_count": 89,
          "metadata": {},
          "output_type": "execute_result"
        }
      ],
      "source": [
        "cidades"
      ]
    },
    {
      "cell_type": "code",
      "execution_count": null,
      "metadata": {
        "id": "kjbs6bD4LtRx"
      },
      "outputs": [],
      "source": [
        "cidades.insert(2, 110)"
      ]
    },
    {
      "cell_type": "code",
      "execution_count": null,
      "metadata": {
        "id": "M6hy5GAVLtRx",
        "outputId": "2f70667f-73a1-4736-c670-c871ed6132fa"
      },
      "outputs": [
        {
          "data": {
            "text/plain": [
              "['Recife', 'Manaus', 110, 'Salvador', 'Fortaleza', 'Palmas']"
            ]
          },
          "execution_count": 91,
          "metadata": {},
          "output_type": "execute_result"
        }
      ],
      "source": [
        "cidades"
      ]
    },
    {
      "cell_type": "code",
      "execution_count": null,
      "metadata": {
        "id": "sDj6_dV8LtRy"
      },
      "outputs": [],
      "source": [
        "# Remove um item da lista\n",
        "cidades.remove(110)"
      ]
    },
    {
      "cell_type": "code",
      "execution_count": null,
      "metadata": {
        "id": "4lcFaAR0LtRy",
        "outputId": "292cfa6a-e04f-4066-b44b-618dc1358c13"
      },
      "outputs": [
        {
          "data": {
            "text/plain": [
              "['Recife', 'Manaus', 'Salvador', 'Fortaleza', 'Palmas']"
            ]
          },
          "execution_count": 93,
          "metadata": {},
          "output_type": "execute_result"
        }
      ],
      "source": [
        "cidades"
      ]
    },
    {
      "cell_type": "code",
      "execution_count": null,
      "metadata": {
        "id": "1k-AJBjSLtRz"
      },
      "outputs": [],
      "source": [
        "# Reverte a lista\n",
        "cidades.reverse()"
      ]
    },
    {
      "cell_type": "code",
      "execution_count": null,
      "metadata": {
        "id": "EijMiLqxLtRz",
        "outputId": "814eabda-e19a-4425-e21f-9e1fcfbb1daa"
      },
      "outputs": [
        {
          "data": {
            "text/plain": [
              "['Palmas', 'Fortaleza', 'Salvador', 'Manaus', 'Recife']"
            ]
          },
          "execution_count": 95,
          "metadata": {},
          "output_type": "execute_result"
        }
      ],
      "source": [
        "# Imprime a lista\n",
        "cidades"
      ]
    },
    {
      "cell_type": "code",
      "execution_count": null,
      "metadata": {
        "id": "pv0DbqkWLtRz"
      },
      "outputs": [],
      "source": [
        "x = [3, 4, 2, 1]"
      ]
    },
    {
      "cell_type": "code",
      "execution_count": null,
      "metadata": {
        "id": "bSEqmOUJLtR0",
        "outputId": "2b6340d0-5862-43ef-a74a-e5e22ee3ad39"
      },
      "outputs": [
        {
          "data": {
            "text/plain": [
              "[3, 4, 2, 1]"
            ]
          },
          "execution_count": 97,
          "metadata": {},
          "output_type": "execute_result"
        }
      ],
      "source": [
        "x"
      ]
    },
    {
      "cell_type": "code",
      "execution_count": null,
      "metadata": {
        "id": "0oXntHR8LtR0"
      },
      "outputs": [],
      "source": [
        "# Ordena a lista\n",
        "x.sort()"
      ]
    },
    {
      "cell_type": "code",
      "execution_count": null,
      "metadata": {
        "id": "_K-YjMZKLtR0",
        "outputId": "646d7aed-b913-4046-e188-1c7a8f42a35a"
      },
      "outputs": [
        {
          "data": {
            "text/plain": [
              "[1, 2, 3, 4]"
            ]
          },
          "execution_count": 103,
          "metadata": {},
          "output_type": "execute_result"
        }
      ],
      "source": [
        "x"
      ]
    },
    {
      "cell_type": "markdown",
      "metadata": {
        "id": "BqGt_K7BLtR0"
      },
      "source": [
        "## <font color='blue'>TUPLAS...</font>\n",
        "---\n",
        "### Trabalhando com Tuplas"
      ]
    },
    {
      "cell_type": "code",
      "execution_count": null,
      "metadata": {
        "id": "8mORyc83LtR1"
      },
      "outputs": [],
      "source": [
        "# Imprimindo a tupla\n",
        "tupla1"
      ]
    },
    {
      "cell_type": "code",
      "execution_count": null,
      "metadata": {
        "id": "ESjdVTucLtR1"
      },
      "outputs": [],
      "source": [
        "# Criando uma tupla\n",
        "tupla1 = (\"Geografia\", 23, \"Elefantes\", 9.8, 'Python')"
      ]
    },
    {
      "cell_type": "code",
      "execution_count": null,
      "metadata": {
        "id": "HlyoR9VMLtR1"
      },
      "outputs": [],
      "source": [
        "# Tuplas não suportam append()\n",
        "tupla1.append(\"Chocolate\")"
      ]
    },
    {
      "cell_type": "code",
      "execution_count": null,
      "metadata": {
        "id": "eNkfdPZRLtR1"
      },
      "outputs": [],
      "source": [
        "# Tuplas não suportam delete de um item específico\n",
        "del tupla1[\"Elefantes\"]"
      ]
    },
    {
      "cell_type": "code",
      "execution_count": null,
      "metadata": {
        "id": "eWBULmbLLtR1"
      },
      "outputs": [],
      "source": [
        "# Tuplas podem ter um único item\n",
        "tupla1 = (\"Chocolate\")"
      ]
    },
    {
      "cell_type": "code",
      "execution_count": null,
      "metadata": {
        "id": "jMgLfGCYLtR2"
      },
      "outputs": [],
      "source": [
        "tupla1"
      ]
    },
    {
      "cell_type": "code",
      "execution_count": null,
      "metadata": {
        "id": "4Ikxt1HFLtR2"
      },
      "outputs": [],
      "source": [
        "tupla1 = (\"Geografia\", 23, \"Elefantes\", 9.8, 'Python')"
      ]
    },
    {
      "cell_type": "code",
      "execution_count": null,
      "metadata": {
        "id": "Xt3P_dfALtR2"
      },
      "outputs": [],
      "source": [
        "tupla1[0]"
      ]
    },
    {
      "cell_type": "code",
      "execution_count": null,
      "metadata": {
        "id": "38RQYmYqLtR2"
      },
      "outputs": [],
      "source": [
        "# Verificando o comprimento da tupla\n",
        "len(tupla1)"
      ]
    },
    {
      "cell_type": "code",
      "execution_count": null,
      "metadata": {
        "id": "W99FNffoLtR2"
      },
      "outputs": [],
      "source": [
        "# Slicing, da mesma forma que se faz com listas\n",
        "tupla1[1:]"
      ]
    },
    {
      "cell_type": "code",
      "execution_count": null,
      "metadata": {
        "id": "Eojyw4SzLtR3"
      },
      "outputs": [],
      "source": [
        "tupla1.index('Elefantes')"
      ]
    },
    {
      "cell_type": "code",
      "execution_count": null,
      "metadata": {
        "id": "lpgUkuDBLtR3"
      },
      "outputs": [],
      "source": [
        "# Tuplas não suportam atribuição de item\n",
        "tupla1[1] = 21"
      ]
    },
    {
      "cell_type": "code",
      "execution_count": null,
      "metadata": {
        "id": "pW8khUFHLtR3"
      },
      "outputs": [],
      "source": [
        "# Deletando a tupla\n",
        "del tupla1"
      ]
    },
    {
      "cell_type": "code",
      "execution_count": null,
      "metadata": {
        "id": "X1wIzg0DLtR3"
      },
      "outputs": [],
      "source": [
        "tupla1"
      ]
    },
    {
      "cell_type": "code",
      "execution_count": null,
      "metadata": {
        "id": "XNFNOY3tLtR4"
      },
      "outputs": [],
      "source": [
        "# Criando uma tupla\n",
        "t2 = ('A', 'B', 'C')"
      ]
    },
    {
      "cell_type": "code",
      "execution_count": null,
      "metadata": {
        "id": "KpD3_UiDLtR4"
      },
      "outputs": [],
      "source": [
        "t2"
      ]
    },
    {
      "cell_type": "code",
      "execution_count": null,
      "metadata": {
        "id": "dUDnYPH_LtR5"
      },
      "outputs": [],
      "source": [
        "# Tuplas não suportam atribuição de item\n",
        "t2[0] = 'D'"
      ]
    },
    {
      "cell_type": "code",
      "execution_count": null,
      "metadata": {
        "id": "-eY7jjmhLtR5"
      },
      "outputs": [],
      "source": [
        "# Usando a função list() para converter uma tupla para lista\n",
        "lista_t2 = list(t2)"
      ]
    },
    {
      "cell_type": "code",
      "execution_count": null,
      "metadata": {
        "id": "zyfvXgOwLtR5"
      },
      "outputs": [],
      "source": [
        "type(t2)"
      ]
    },
    {
      "cell_type": "code",
      "execution_count": null,
      "metadata": {
        "id": "FF8qwu_7LtR6"
      },
      "outputs": [],
      "source": [
        "type(lista_t2)"
      ]
    },
    {
      "cell_type": "code",
      "execution_count": null,
      "metadata": {
        "id": "N6aSAkqKLtR6"
      },
      "outputs": [],
      "source": [
        "lista_t2"
      ]
    },
    {
      "cell_type": "code",
      "execution_count": null,
      "metadata": {
        "id": "qusqPfFILtR6"
      },
      "outputs": [],
      "source": [
        "lista_t2.append('D')"
      ]
    },
    {
      "cell_type": "code",
      "execution_count": null,
      "metadata": {
        "id": "Ft1nU-LxLtR6"
      },
      "outputs": [],
      "source": [
        "# Usando a função tuple() para converter uma lista para tupla\n",
        "t2 = tuple(lista_t2)"
      ]
    },
    {
      "cell_type": "code",
      "execution_count": null,
      "metadata": {
        "id": "7dPuiBH-LtR7"
      },
      "outputs": [],
      "source": [
        "t2"
      ]
    },
    {
      "cell_type": "markdown",
      "metadata": {
        "id": "Dh_8uJSXLtR7"
      },
      "source": [
        "### Funções Built-in"
      ]
    },
    {
      "cell_type": "markdown",
      "metadata": {
        "id": "hJol9gHvLtR7"
      },
      "source": [
        "![Tuplas](tuplas.jpg)"
      ]
    },
    {
      "cell_type": "markdown",
      "metadata": {
        "id": "3rjWV74VLtR7"
      },
      "source": [
        "## <font color='blue'>DICIONÁRIOS...</font>\n",
        "---\n",
        "### Trabalhando com Dicionários"
      ]
    },
    {
      "cell_type": "markdown",
      "metadata": {
        "id": "9-4fSsm6LtR7"
      },
      "source": [
        "![Dicionários](dicionarios.jpg)"
      ]
    },
    {
      "cell_type": "code",
      "execution_count": null,
      "metadata": {
        "id": "YYUWVuBMLtR8"
      },
      "outputs": [],
      "source": [
        "# Isso é uma lista\n",
        "estudantes_lst = [\"Pedro\", 24, \"Ana\", 22, \"Ronaldo\", 26, \"Janaina\", 25]"
      ]
    },
    {
      "cell_type": "code",
      "execution_count": null,
      "metadata": {
        "id": "hYEs0xdmLtR8"
      },
      "outputs": [],
      "source": [
        "estudantes_lst"
      ]
    },
    {
      "cell_type": "code",
      "execution_count": null,
      "metadata": {
        "id": "CyWOK_YULtR8"
      },
      "outputs": [],
      "source": [
        "type(estudantes_lst)"
      ]
    },
    {
      "cell_type": "code",
      "execution_count": null,
      "metadata": {
        "id": "Vdfv9_mrLtR9"
      },
      "outputs": [],
      "source": [
        "# Isso é um dicionário\n",
        "estudantes_dict = {\"Pedro\":24, \"Ana\":22, \"Ronaldo\":26, \"Janaina\":25}"
      ]
    },
    {
      "cell_type": "code",
      "execution_count": null,
      "metadata": {
        "id": "u9fqckhTLtR9"
      },
      "outputs": [],
      "source": [
        "estudantes_dict"
      ]
    },
    {
      "cell_type": "code",
      "execution_count": null,
      "metadata": {
        "id": "i3icT2khLtR9"
      },
      "outputs": [],
      "source": [
        "type(estudantes_dict)"
      ]
    },
    {
      "cell_type": "code",
      "execution_count": null,
      "metadata": {
        "id": "0EAj41BRLtR9"
      },
      "outputs": [],
      "source": [
        "estudantes_dict[\"Pedro\"]"
      ]
    },
    {
      "cell_type": "code",
      "execution_count": null,
      "metadata": {
        "id": "jXi-KsOfLtR9"
      },
      "outputs": [],
      "source": [
        "estudantes_dict[\"Marcelo\"] = 23"
      ]
    },
    {
      "cell_type": "code",
      "execution_count": null,
      "metadata": {
        "id": "_HNWuI6BLtR-"
      },
      "outputs": [],
      "source": [
        "estudantes_dict[\"Marcelo\"]"
      ]
    },
    {
      "cell_type": "code",
      "execution_count": null,
      "metadata": {
        "id": "A7lbNM61LtR-"
      },
      "outputs": [],
      "source": [
        "estudantes_dict"
      ]
    },
    {
      "cell_type": "code",
      "execution_count": null,
      "metadata": {
        "id": "vuE-LQziLtR-"
      },
      "outputs": [],
      "source": [
        "estudantes_dict.clear()"
      ]
    },
    {
      "cell_type": "code",
      "execution_count": null,
      "metadata": {
        "id": "H-eIjN2VLtR-"
      },
      "outputs": [],
      "source": [
        "estudantes_dict"
      ]
    },
    {
      "cell_type": "code",
      "execution_count": null,
      "metadata": {
        "id": "h9NjE6NmLtR-"
      },
      "outputs": [],
      "source": [
        "del estudantes_dict"
      ]
    },
    {
      "cell_type": "code",
      "execution_count": null,
      "metadata": {
        "id": "HDD_Yop7LtR_"
      },
      "outputs": [],
      "source": [
        "estudantes_dict"
      ]
    },
    {
      "cell_type": "code",
      "execution_count": null,
      "metadata": {
        "id": "RhX2insXLtR_"
      },
      "outputs": [],
      "source": [
        "estudantes = {\"Pedro\":24, \"Ana\":22, \"Ronaldo\":26, \"Janaina\":25}"
      ]
    },
    {
      "cell_type": "code",
      "execution_count": null,
      "metadata": {
        "id": "Wff5l9SGLtR_"
      },
      "outputs": [],
      "source": [
        "estudantes"
      ]
    },
    {
      "cell_type": "code",
      "execution_count": null,
      "metadata": {
        "id": "oYtev49aLtR_"
      },
      "outputs": [],
      "source": [
        "len(estudantes)"
      ]
    },
    {
      "cell_type": "code",
      "execution_count": null,
      "metadata": {
        "id": "Z3nYIk8QLtR_"
      },
      "outputs": [],
      "source": [
        "estudantes.keys()"
      ]
    },
    {
      "cell_type": "code",
      "execution_count": null,
      "metadata": {
        "id": "5bcR6_XqLtSA"
      },
      "outputs": [],
      "source": [
        "estudantes.values()"
      ]
    },
    {
      "cell_type": "code",
      "execution_count": null,
      "metadata": {
        "id": "gCJdibzaLtSA"
      },
      "outputs": [],
      "source": [
        "estudantes.items()"
      ]
    },
    {
      "cell_type": "code",
      "execution_count": null,
      "metadata": {
        "id": "N4e22e1aLtSA"
      },
      "outputs": [],
      "source": [
        "estudantes2 = {\"Camila\":27, \"Adriana\":28, \"Roberta\":26}"
      ]
    },
    {
      "cell_type": "code",
      "execution_count": null,
      "metadata": {
        "id": "c74yNgD4LtSA"
      },
      "outputs": [],
      "source": [
        "estudantes2"
      ]
    },
    {
      "cell_type": "code",
      "execution_count": null,
      "metadata": {
        "id": "aODhbelTLtSA"
      },
      "outputs": [],
      "source": [
        "estudantes.update(estudantes2)"
      ]
    },
    {
      "cell_type": "code",
      "execution_count": null,
      "metadata": {
        "id": "_l0LpmBvLtSB"
      },
      "outputs": [],
      "source": [
        "estudantes"
      ]
    },
    {
      "cell_type": "code",
      "execution_count": null,
      "metadata": {
        "id": "Oj2orZUnLtSB"
      },
      "outputs": [],
      "source": [
        "dic1 = {}"
      ]
    },
    {
      "cell_type": "code",
      "execution_count": null,
      "metadata": {
        "id": "aXpnR1qbLtSB"
      },
      "outputs": [],
      "source": [
        "dic1"
      ]
    },
    {
      "cell_type": "code",
      "execution_count": null,
      "metadata": {
        "id": "OWmBzL5BLtSB"
      },
      "outputs": [],
      "source": [
        "dic1[\"chave_um\"] = 2"
      ]
    },
    {
      "cell_type": "code",
      "execution_count": null,
      "metadata": {
        "id": "b6pXTn3yLtSC"
      },
      "outputs": [],
      "source": [
        "print(dic1)"
      ]
    },
    {
      "cell_type": "code",
      "execution_count": null,
      "metadata": {
        "id": "3issk11MLtSC"
      },
      "outputs": [],
      "source": [
        "dic1[10] = 5"
      ]
    },
    {
      "cell_type": "code",
      "execution_count": null,
      "metadata": {
        "id": "0LNFfMnCLtSC"
      },
      "outputs": [],
      "source": [
        "dic1"
      ]
    },
    {
      "cell_type": "code",
      "execution_count": null,
      "metadata": {
        "id": "pU25EVoGLtSD"
      },
      "outputs": [],
      "source": [
        "dic1[9.13] = \"Python\""
      ]
    },
    {
      "cell_type": "code",
      "execution_count": null,
      "metadata": {
        "id": "3GEBCTrALtSD"
      },
      "outputs": [],
      "source": [
        "dic1"
      ]
    },
    {
      "cell_type": "code",
      "execution_count": null,
      "metadata": {
        "id": "grek00RiLtSD"
      },
      "outputs": [],
      "source": [
        "dic1[\"teste\"] = 5"
      ]
    },
    {
      "cell_type": "code",
      "execution_count": null,
      "metadata": {
        "id": "zgNp_IQ-LtSD"
      },
      "outputs": [],
      "source": [
        "dic1"
      ]
    },
    {
      "cell_type": "code",
      "execution_count": null,
      "metadata": {
        "id": "sMdFLRJTLtSE"
      },
      "outputs": [],
      "source": [
        "dict1 = {}"
      ]
    },
    {
      "cell_type": "code",
      "execution_count": null,
      "metadata": {
        "id": "1Xo3iFEhLtSE"
      },
      "outputs": [],
      "source": [
        "dict1"
      ]
    },
    {
      "cell_type": "code",
      "execution_count": null,
      "metadata": {
        "id": "9CMsARkfLtSE"
      },
      "outputs": [],
      "source": [
        "dict1[\"teste\"] = 10"
      ]
    },
    {
      "cell_type": "code",
      "execution_count": null,
      "metadata": {
        "id": "no6qWilaLtSE"
      },
      "outputs": [],
      "source": [
        "dict1[\"key\"] = \"teste\""
      ]
    },
    {
      "cell_type": "code",
      "execution_count": null,
      "metadata": {
        "id": "RDx6rH_tLtSF"
      },
      "outputs": [],
      "source": [
        "# Atenção, pois chave e valor podem ser iguais, mas representam coisas diferentes.\n",
        "dict1"
      ]
    },
    {
      "cell_type": "code",
      "execution_count": null,
      "metadata": {
        "id": "u_SwoBI3LtSF"
      },
      "outputs": [],
      "source": [
        "dict2 = {}"
      ]
    },
    {
      "cell_type": "code",
      "execution_count": null,
      "metadata": {
        "id": "1f-zvTOmLtSF"
      },
      "outputs": [],
      "source": [
        "dict2[\"key1\"] = \"Data Science\""
      ]
    },
    {
      "cell_type": "code",
      "execution_count": null,
      "metadata": {
        "id": "c01DVQPyLtSG"
      },
      "outputs": [],
      "source": [
        "dict2[\"key2\"] = 10"
      ]
    },
    {
      "cell_type": "code",
      "execution_count": null,
      "metadata": {
        "id": "rZ7Tg1oCLtSG"
      },
      "outputs": [],
      "source": [
        "dict2[\"key3\"] = 100"
      ]
    },
    {
      "cell_type": "code",
      "execution_count": null,
      "metadata": {
        "id": "gQ2vUOu3LtSG"
      },
      "outputs": [],
      "source": [
        "dict2"
      ]
    },
    {
      "cell_type": "code",
      "execution_count": null,
      "metadata": {
        "id": "69p9E3cTLtSG"
      },
      "outputs": [],
      "source": [
        "a = dict2[\"key1\"]"
      ]
    },
    {
      "cell_type": "code",
      "execution_count": null,
      "metadata": {
        "id": "TeNm-XvcLtSH"
      },
      "outputs": [],
      "source": [
        "b = dict2[\"key2\"]"
      ]
    },
    {
      "cell_type": "code",
      "execution_count": null,
      "metadata": {
        "id": "_D_WJgHWLtSH"
      },
      "outputs": [],
      "source": [
        "c = dict2[\"key3\"]"
      ]
    },
    {
      "cell_type": "code",
      "execution_count": null,
      "metadata": {
        "id": "ICG-QLxELtSH"
      },
      "outputs": [],
      "source": [
        "a, b, c"
      ]
    },
    {
      "cell_type": "code",
      "execution_count": null,
      "metadata": {
        "id": "X7x52ShxLtSH"
      },
      "outputs": [],
      "source": [
        "# Dicionário de listas\n",
        "dict3 = {'chave1':1230, 'chave2':[22,453,73.4], 'chave3':['picanha', 'fraldinha', 'alcatra']}"
      ]
    },
    {
      "cell_type": "code",
      "execution_count": null,
      "metadata": {
        "id": "7gTh3HslLtSH"
      },
      "outputs": [],
      "source": [
        "dict3"
      ]
    },
    {
      "cell_type": "code",
      "execution_count": null,
      "metadata": {
        "id": "DiayJBpyLtSI"
      },
      "outputs": [],
      "source": [
        "dict3['chave2']"
      ]
    },
    {
      "cell_type": "code",
      "execution_count": null,
      "metadata": {
        "id": "r0qUEjycLtSI"
      },
      "outputs": [],
      "source": [
        "# Acessando um item da lista, dentro do dicionário\n",
        "dict3['chave3'][0].upper()"
      ]
    },
    {
      "cell_type": "code",
      "execution_count": null,
      "metadata": {
        "id": "Ngg8AX3ZLtSI"
      },
      "outputs": [],
      "source": [
        "# Operações com itens da lista, dentro do dicionário\n",
        "var1 = dict3['chave2'][0] - 2"
      ]
    },
    {
      "cell_type": "code",
      "execution_count": null,
      "metadata": {
        "id": "wKjBOQwILtSI"
      },
      "outputs": [],
      "source": [
        "var1"
      ]
    },
    {
      "cell_type": "code",
      "execution_count": null,
      "metadata": {
        "id": "PyuYbLKeLtSI"
      },
      "outputs": [],
      "source": [
        "# Duas operações no mesmo comando, para atualizar um item dentro da lista\n",
        "dict3['chave2'][0] -= 2"
      ]
    },
    {
      "cell_type": "code",
      "execution_count": null,
      "metadata": {
        "id": "Yc1lXunvLtSJ"
      },
      "outputs": [],
      "source": [
        "dict3"
      ]
    },
    {
      "cell_type": "markdown",
      "metadata": {
        "id": "I9FcJ8HSLtSJ"
      },
      "source": [
        "#### Criando Dicionários Aninhados"
      ]
    },
    {
      "cell_type": "code",
      "execution_count": null,
      "metadata": {
        "id": "5m1JSsY2LtSJ"
      },
      "outputs": [],
      "source": [
        "# Criando dicionários aninhados\n",
        "dict_aninhado = {'key1':{'key2_aninhada':{'key3_aninhada':'Dict aninhado em Python'}}}"
      ]
    },
    {
      "cell_type": "code",
      "execution_count": null,
      "metadata": {
        "id": "t7vXLqGQLtSJ"
      },
      "outputs": [],
      "source": [
        "dict_aninhado"
      ]
    },
    {
      "cell_type": "code",
      "execution_count": null,
      "metadata": {
        "id": "fBwn9DJ7LtSJ"
      },
      "outputs": [],
      "source": [
        "dict_aninhado['key1']['key2_aninhada']['key3_aninhada']"
      ]
    },
    {
      "cell_type": "markdown",
      "metadata": {
        "id": "56ocw9eYLtSK"
      },
      "source": [
        "### Funções Built-in"
      ]
    },
    {
      "cell_type": "markdown",
      "metadata": {
        "id": "Y9TzUUf_LtSL"
      },
      "source": [
        "![Dicionários](dict.jpg)"
      ]
    },
    {
      "cell_type": "markdown",
      "metadata": {
        "id": "hp8v5i-gLtSL"
      },
      "source": [
        "## <font color='blue'>EXERCÍCIOS...</font>\n",
        "---\n",
        "### Exercícios sobre Listas"
      ]
    },
    {
      "cell_type": "markdown",
      "metadata": {
        "id": "cI8SuyA8LtSL"
      },
      "source": [
        "1. Faça um algoritmo que carregue um vetor de 5 elementos numéricos inteiros. Após a finalização da entrada, o algoritmo deve escrever o mesmo vetor, na ordem inversa de entrada."
      ]
    },
    {
      "cell_type": "code",
      "execution_count": null,
      "metadata": {
        "colab": {
          "base_uri": "https://localhost:8080/"
        },
        "id": "Z1vWFRwELtSL",
        "outputId": "f4ef8282-999b-4e00-9319-85579d92b292"
      },
      "outputs": [
        {
          "output_type": "stream",
          "name": "stdout",
          "text": [
            "Digite o valor (i): 1\n",
            "Digite o valor (i): 2\n",
            "Digite o valor (i): 3\n",
            "Digite o valor (i): 4\n",
            "Digite o valor (i): 5\n",
            "Lista Inversa:  [5, 4, 3, 2, 1]\n"
          ]
        }
      ],
      "source": [
        "lista = []\n",
        "for i in range(5):\n",
        "  n = int(input(f\"Digite o valor (i): \"))\n",
        "  lista.append(n)\n",
        "\n",
        "print(\"Lista Inversa: \", lista [::-1])\n"
      ]
    },
    {
      "cell_type": "markdown",
      "metadata": {
        "id": "GshcnkbeLtSM"
      },
      "source": [
        "2. Faça um algorimto que carregue um vetor de 5 elementos numéricos inteiros. Após a finalização da entrada, o algoritmo deve escrever o maior valor e sua posição.\n"
      ]
    },
    {
      "cell_type": "code",
      "execution_count": null,
      "metadata": {
        "colab": {
          "base_uri": "https://localhost:8080/"
        },
        "id": "8SQFiIFmLtSM",
        "outputId": "01070d2e-c649-4ad5-9fb6-81e6efa02d9a"
      },
      "outputs": [
        {
          "output_type": "stream",
          "name": "stdout",
          "text": [
            "Digite o valor (i): 1\n",
            "Digite o valor (i): 2\n",
            "Digite o valor (i): 3\n",
            "Digite o valor (i): 4\n",
            "Digite o valor (i): 5\n",
            "O maior valor é 5 e seu índice é 4!\n"
          ]
        }
      ],
      "source": [
        "lista = []\n",
        "for i in range(5):\n",
        "  n = int(input(f\"Digite o valor (i): \"))\n",
        "  lista.append(n)\n",
        "maior = max (lista)\n",
        "indice = lista.index(maior)\n",
        "\n",
        "print(f\"O maior valor é {max(lista)} e seu índice é {indice}!\")\n"
      ]
    },
    {
      "cell_type": "markdown",
      "metadata": {
        "id": "eNQjQfYlLtSM"
      },
      "source": [
        "3. Faça algoritmo que carregue dois vetores (listas) de cinco elementos numéricos cada um e mostre um vetor resultante na intercalação desses dois vetores"
      ]
    },
    {
      "cell_type": "code",
      "execution_count": null,
      "metadata": {
        "colab": {
          "base_uri": "https://localhost:8080/"
        },
        "id": "6a22a2euLtSN",
        "outputId": "3df0200b-0f4e-430b-e299-87017ca22cde"
      },
      "outputs": [
        {
          "output_type": "stream",
          "name": "stdout",
          "text": [
            "Digite o valor 1: 1\n",
            "Digite o valor 2: 2\n",
            "Digite o valor 3: 3\n",
            "Digite o valor 4: 4\n",
            "Digite o valor 5: 5\n",
            "Digite o Valor 1: 11\n",
            "Digite o Valor 2: 22\n",
            "Digite o Valor 3: 33\n",
            "Digite o Valor 4: 44\n",
            "Digite o Valor 5: 55\n",
            "Lista1:  [1, 2, 3, 4, 5]\n",
            "Lista2:  [11, 22, 33, 44, 55]\n",
            "Lista3:  [1, 11, 2, 22, 3, 33, 4, 44, 5, 55]\n"
          ]
        }
      ],
      "source": [
        "l1 = []\n",
        "l2 = []\n",
        "l3 = []\n",
        "for i in range(5):\n",
        "  n = int(input(f\"Digite o valor {i+1}: \"))\n",
        "  l1.append(n)\n",
        "for i in range (5):\n",
        "  n = int (input(f\"Digite o Valor {i+1}: \"))\n",
        "  l2.append(n)\n",
        "for i in range(5):\n",
        "  l3.append(l1[i])\n",
        "  l3.append(l2[i])\n",
        "\n",
        "print('Lista1: ', l1)\n",
        "print('Lista2: ', l2)\n",
        "print('Lista3: ', l3)"
      ]
    },
    {
      "cell_type": "code",
      "execution_count": null,
      "metadata": {
        "id": "jMYgrJjvLtSN",
        "outputId": "f54fd311-31ef-4c4c-9e3e-8ed3de8daf7d"
      },
      "outputs": [
        {
          "name": "stdout",
          "output_type": "stream",
          "text": [
            "44\n"
          ]
        }
      ],
      "source": [
        "# Exemplo de geração de números aleatórios (randômicos) entre 1 e 60\n",
        "from random import randint\n",
        "a = randint(1, 60)\n",
        "print(a)"
      ]
    },
    {
      "cell_type": "code",
      "execution_count": null,
      "metadata": {
        "id": "1gh12dXhLtSN",
        "outputId": "fc1f99c2-7e21-40db-9cd6-9d92b8da8133"
      },
      "outputs": [
        {
          "name": "stdout",
          "output_type": "stream",
          "text": [
            "4 2 3 3 3 5 2 6 4 6 "
          ]
        }
      ],
      "source": [
        "# Exemplo de geração de 10 jogadas de dados\n",
        "from random import randint\n",
        "# Gerando 10 jogadas\n",
        "for i in range (0,10):\n",
        "    lado = randint(1, 6)\n",
        "    print(lado, end=\" \")"
      ]
    },
    {
      "cell_type": "markdown",
      "metadata": {
        "id": "cwtNzSfeLtSN"
      },
      "source": [
        "4. Faça um Algoritmo que simule 6000 jogadas de um dado de 6 faces. Para simular o resultado utilize a função randint  Ao final, mostre a frequência de sorteio de cada uma das faces  \n"
      ]
    },
    {
      "cell_type": "code",
      "execution_count": null,
      "metadata": {
        "colab": {
          "base_uri": "https://localhost:8080/",
          "height": 211
        },
        "id": "Ox9LTQM6LtSO",
        "outputId": "b1ada0ba-4943-4e14-9c03-dff6b6ad7c8a"
      },
      "outputs": [
        {
          "output_type": "error",
          "ename": "NameError",
          "evalue": "name 'randint' is not defined",
          "traceback": [
            "\u001b[0;31m---------------------------------------------------------------------------\u001b[0m",
            "\u001b[0;31mNameError\u001b[0m                                 Traceback (most recent call last)",
            "\u001b[0;32m<ipython-input-10-985e3d48a2c0>\u001b[0m in \u001b[0;36m<cell line: 2>\u001b[0;34m()\u001b[0m\n\u001b[1;32m      1\u001b[0m \u001b[0mjogadas\u001b[0m \u001b[0;34m=\u001b[0m \u001b[0;34m[\u001b[0m\u001b[0;36m0\u001b[0m\u001b[0;34m,\u001b[0m\u001b[0;36m0\u001b[0m\u001b[0;34m,\u001b[0m\u001b[0;36m0\u001b[0m\u001b[0;34m,\u001b[0m\u001b[0;36m0\u001b[0m\u001b[0;34m,\u001b[0m\u001b[0;36m0\u001b[0m\u001b[0;34m,\u001b[0m\u001b[0;36m0\u001b[0m\u001b[0;34m,\u001b[0m\u001b[0;36m0\u001b[0m\u001b[0;34m]\u001b[0m\u001b[0;34m\u001b[0m\u001b[0;34m\u001b[0m\u001b[0m\n\u001b[1;32m      2\u001b[0m \u001b[0;32mfor\u001b[0m \u001b[0mi\u001b[0m \u001b[0;32min\u001b[0m \u001b[0mrange\u001b[0m\u001b[0;34m(\u001b[0m\u001b[0;36m6000\u001b[0m\u001b[0;34m)\u001b[0m\u001b[0;34m:\u001b[0m\u001b[0;34m\u001b[0m\u001b[0;34m\u001b[0m\u001b[0m\n\u001b[0;32m----> 3\u001b[0;31m   \u001b[0mlado\u001b[0m \u001b[0;34m=\u001b[0m \u001b[0mrandint\u001b[0m\u001b[0;34m(\u001b[0m\u001b[0;36m1\u001b[0m\u001b[0;34m,\u001b[0m \u001b[0;36m6\u001b[0m\u001b[0;34m)\u001b[0m\u001b[0;34m\u001b[0m\u001b[0;34m\u001b[0m\u001b[0m\n\u001b[0m\u001b[1;32m      4\u001b[0m   \u001b[0mjogadas\u001b[0m\u001b[0;34m[\u001b[0m\u001b[0mlado\u001b[0m\u001b[0;34m]\u001b[0m \u001b[0;34m+=\u001b[0m \u001b[0;36m1\u001b[0m\u001b[0;34m\u001b[0m\u001b[0;34m\u001b[0m\u001b[0m\n\u001b[1;32m      5\u001b[0m \u001b[0;34m\u001b[0m\u001b[0m\n",
            "\u001b[0;31mNameError\u001b[0m: name 'randint' is not defined"
          ]
        }
      ],
      "source": [
        "jogadas = [0,0,0,0,0,0,0]\n",
        "for i in range(6000):\n",
        "  lado = randint(1, 6)\n",
        "  jogadas[lado] += 1\n",
        "\n",
        "print(jogadas)\n",
        "\n"
      ]
    },
    {
      "cell_type": "markdown",
      "metadata": {
        "id": "_OUycVtlLtSO"
      },
      "source": [
        "5. Faça um algoritmo que simule a jogada de dois dados de 6 faces. O programa deve usar randint para rolar o primeiro dado e deve usar randint novamente para rolar o segundo dado. A soma das duas faces deve ser calculada. Assim: a soma variará de 2 a 12. O programa deve rolar 30.000 vezes e mostrar a frequência com que a soma (de 2 a 12) aparecem.  Verifique se o valor 7 corresponde a 1/6 das jogadas!\n"
      ]
    },
    {
      "cell_type": "code",
      "execution_count": null,
      "metadata": {
        "id": "bQiToaR3LtSO"
      },
      "outputs": [],
      "source": [
        "frequencias = [0] * 11\n",
        "for i in range(30000):\n",
        "  dado1 = randint(1, 6)\n",
        "  dado2 = randint(1, 6)\n",
        "  soma = dado1 + dado2"
      ]
    },
    {
      "cell_type": "markdown",
      "metadata": {
        "id": "4k80NT7iLtSO"
      },
      "source": [
        "6. Faça um algoritmo que leia uma matriz 2x2 e imprima os seus elementos na ordem:\n",
        "\n",
        "1,1 =\n",
        "\n",
        "1,2 =\n",
        "\n",
        "2,1 =\n",
        "\n",
        "2,2 =\n",
        "\n",
        "Obs: linha, coluna\n"
      ]
    },
    {
      "cell_type": "code",
      "execution_count": null,
      "metadata": {
        "id": "zbwORIheLtSO"
      },
      "outputs": [],
      "source": []
    },
    {
      "cell_type": "markdown",
      "metadata": {
        "id": "R-U-DuIdLtSP"
      },
      "source": [
        "7. Faça um algoritmo que leia os dados de uma matriz de 4 linhas e 4 colunas, composta de elementos reais, e calcule a soma dos elementos da diagonal principal da matriz."
      ]
    },
    {
      "cell_type": "code",
      "execution_count": null,
      "metadata": {
        "id": "16nn7pfsLtSP"
      },
      "outputs": [],
      "source": []
    },
    {
      "cell_type": "markdown",
      "metadata": {
        "id": "-swR-N4gLtSP"
      },
      "source": [
        "8. Faça um algoritmo que receba uma matriz de 5x5 com números reais. Ao final o algoritmo deve calcular e mostrar a média dos elementos que estão nas linhas pares da matriz."
      ]
    },
    {
      "cell_type": "code",
      "execution_count": null,
      "metadata": {
        "id": "JHnnhF_QLtSP"
      },
      "outputs": [],
      "source": []
    },
    {
      "cell_type": "markdown",
      "metadata": {
        "id": "n3zwL_-mLtSP"
      },
      "source": [
        "### Exercícios sobre Tuplas"
      ]
    },
    {
      "cell_type": "markdown",
      "metadata": {
        "id": "Kr-v01dFLtSP"
      },
      "source": [
        "9. Faça um algoritmo que armazenará os 10 primeiros números primos acima de 100 em uma trupla. Ao final, o algoritmo deve mostrar os valores dessa estrutura de dados.\n"
      ]
    },
    {
      "cell_type": "code",
      "execution_count": null,
      "metadata": {
        "id": "uE-lj8GbLtSQ"
      },
      "outputs": [],
      "source": []
    },
    {
      "cell_type": "code",
      "execution_count": null,
      "metadata": {
        "id": "W6YE5CygLtSQ"
      },
      "outputs": [],
      "source": []
    },
    {
      "cell_type": "markdown",
      "metadata": {
        "id": "Fxe88i2hLtSQ"
      },
      "source": [
        "### Exercícios sobre Dicionários"
      ]
    },
    {
      "cell_type": "markdown",
      "metadata": {
        "id": "NSZNYR0QLtSR"
      },
      "source": [
        "10. Faça um algoritmo que carregue um dicionário de 10 elementos onde a chave é o sobrenome da pessoa e o valor a sua idade.\n",
        "Após a finalização da entrada, o algoritmo deve escrever o sobrenome da pessoa com maior idade."
      ]
    },
    {
      "cell_type": "code",
      "execution_count": null,
      "metadata": {
        "id": "6xfQptSNLtSR"
      },
      "outputs": [],
      "source": []
    },
    {
      "cell_type": "markdown",
      "metadata": {
        "id": "mG2mkgspLtSR"
      },
      "source": [
        "11. Faça um algoritmo que carregue um dicionário contendo nome e idade (pelo menos 5 pares). Depois de carregar, mostre todos os nomes que tenham idade maior que a média das idades."
      ]
    },
    {
      "cell_type": "code",
      "execution_count": null,
      "metadata": {
        "id": "o0hkvqJ9LtSR"
      },
      "outputs": [],
      "source": []
    },
    {
      "cell_type": "markdown",
      "metadata": {
        "id": "TDDJhOBYLtSS"
      },
      "source": [
        "12. Faça algoritmo que carregue duas listas de cinco elementos numéricos inteiros cada um. A partir dessas duas listas, crie um conjunto da união entre essas duas listas."
      ]
    },
    {
      "cell_type": "code",
      "execution_count": null,
      "metadata": {
        "id": "Jcxl2VDTLtSS"
      },
      "outputs": [],
      "source": []
    },
    {
      "cell_type": "markdown",
      "metadata": {
        "id": "EX84emNeLtSS"
      },
      "source": [
        "## FIM"
      ]
    }
  ],
  "metadata": {
    "anaconda-cloud": {},
    "kernelspec": {
      "display_name": "Python 3 (ipykernel)",
      "language": "python",
      "name": "python3"
    },
    "language_info": {
      "codemirror_mode": {
        "name": "ipython",
        "version": 3
      },
      "file_extension": ".py",
      "mimetype": "text/x-python",
      "name": "python",
      "nbconvert_exporter": "python",
      "pygments_lexer": "ipython3",
      "version": "3.11.5"
    },
    "colab": {
      "provenance": [],
      "include_colab_link": true
    }
  },
  "nbformat": 4,
  "nbformat_minor": 0
}